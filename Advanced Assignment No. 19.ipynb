{
 "cells": [
  {
   "cell_type": "markdown",
   "id": "323ade7e",
   "metadata": {},
   "source": [
    "1) Define the relationship between a class and its instances. Is it a one-to-one or a one-to-many partnership, for example?\n",
    "\n",
    ":- A class is a blueprint that is needed to make an object(= instance). The difference between an object and an instance      is, an object is a thing and an instance is a relation. In other words, instance describes the relation of an object to    the class that the object was made from. A class defines the structure and behaviors of all entities of a given type. An    object is one particular \"instance\" of that type of entity. For example if dog is a class then a particular named tommy \n",
    "   would be object of that class."
   ]
  },
  {
   "cell_type": "markdown",
   "id": "2e10602e",
   "metadata": {},
   "source": [
    "2) What kind of data is held only in an instance?\n",
    "\n",
    ":- variable data "
   ]
  },
  {
   "cell_type": "markdown",
   "id": "585f3084",
   "metadata": {},
   "source": [
    "3) What kind of knowledge is stored in a class?\n",
    "\n",
    ":- References and instantiation are stored in class. Where references use the standard syntax used for all attribute          references in Python. Class instantiation uses function notation. "
   ]
  },
  {
   "cell_type": "markdown",
   "id": "d7adef73",
   "metadata": {},
   "source": [
    "4) What exactly is a method, and how is it different from a regular function?\n",
    "\n",
    ":- Method is defined within a class and hence they are dependent on that class. The javascript method is an object property    that has a function value. A function can pass the data that is operated and may return the data. The method operates      the data contained in a Class."
   ]
  },
  {
   "cell_type": "markdown",
   "id": "8b9a8560",
   "metadata": {},
   "source": [
    "5) Is inheritance supported in Python, and if so, what is the syntax?\n",
    "\n",
    ":- An object-oriented programming language like Python, not only supports inheritance but multiple inheritance as well."
   ]
  },
  {
   "cell_type": "markdown",
   "id": "97189cd6",
   "metadata": {},
   "source": [
    "6) How much encapsulation (making instance or class variables private) does Python support?\n",
    "\n",
    ":- Encapsulation is one of the fundamental concepts in object-oriented programming (OOP). It describes the idea of wrapping    data and the methods that work on data within one unit. A class is an example of encapsulation as it encapsulates all      the data that is member functions, variables. Encapsulation supports python."
   ]
  },
  {
   "cell_type": "markdown",
   "id": "edfb274a",
   "metadata": {},
   "source": [
    "7) How do you distinguish between a class variable and an instance variable?\n",
    "\n",
    ":- Class variables also known as static variables are declared with the static keyword in a class, but outside a method,      constructor or a block. Instance variables are created when an object is created with the use of the keyword 'new' and      destroyed when the object is destroyed. Instance variables can be accessed directly by calling the variable name inside    the class. Static variables can be accessed by calling with the class name"
   ]
  },
  {
   "cell_type": "markdown",
   "id": "60ac0685",
   "metadata": {},
   "source": [
    "8) When, if ever, can self be included in a class's method definitions?\n",
    "\n",
    ":- Self represents the instance of the class. By using the “self”  we can access the attributes and methods of the class in    python. It binds the attributes with the given arguments. Self is always pointing to Current Object."
   ]
  },
  {
   "cell_type": "markdown",
   "id": "371205a6",
   "metadata": {},
   "source": [
    "9) What is the difference between the _ _add_ _ and the _ _radd_ _ methods?\n",
    "\n",
    ":- There is no difference. Perform a+b or b+a both gives you same result."
   ]
  },
  {
   "cell_type": "markdown",
   "id": "99e5ea3d",
   "metadata": {},
   "source": [
    "10) When is it necessary to use a reflection method? When do you not need it, even though you support the operation in         question?\n",
    "\n",
    ":- The reflected method may be a class method or an instance method (including an abstract method). A Method permits          widening conversions to occur when matching the actual parameters to invoke with the underlying method's formal            parameters, but it throws an IllegalArgumentException if a narrowing conversion would occur. To examine attributes about    object, that might passed as parameter of a function. "
   ]
  },
  {
   "cell_type": "markdown",
   "id": "f81a4faa",
   "metadata": {},
   "source": [
    "11) What is the _ _iadd_ _ method called?\n",
    "\n",
    ":- This function is used to assign and add the current value."
   ]
  },
  {
   "cell_type": "markdown",
   "id": "025df2a0",
   "metadata": {},
   "source": [
    "12) Is the _ _init_ _ method inherited by subclasses? What do you do if you need to customize its behavior within a             subclass?\n",
    "\n",
    ":- __init__\" is a reseved method in python classes. A subclass inherits all the members (fields, methods, and nested          classes) from its superclass. Do polymorphism if you need to do customize behavior within subclass."
   ]
  }
 ],
 "metadata": {
  "kernelspec": {
   "display_name": "Python 3 (ipykernel)",
   "language": "python",
   "name": "python3"
  },
  "language_info": {
   "codemirror_mode": {
    "name": "ipython",
    "version": 3
   },
   "file_extension": ".py",
   "mimetype": "text/x-python",
   "name": "python",
   "nbconvert_exporter": "python",
   "pygments_lexer": "ipython3",
   "version": "3.9.7"
  }
 },
 "nbformat": 4,
 "nbformat_minor": 5
}
